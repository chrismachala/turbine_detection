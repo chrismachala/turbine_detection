{
 "cells": [
  {
   "cell_type": "code",
   "execution_count": 22,
   "metadata": {},
   "outputs": [],
   "source": [
    "import csv\n",
    "from os import listdir\n",
    "from os.path import isfile, join"
   ]
  },
  {
   "cell_type": "markdown",
   "metadata": {},
   "source": [
    "# Data Analysis"
   ]
  },
  {
   "cell_type": "markdown",
   "metadata": {},
   "source": [
    "<p> Initially looking at the provided dataset its obvious that there are too many Images to inspect manually, I decided to look at a random sample of around 15 images. From this I figurerd that there are 3 classes of Images.</p>\n",
    "\n",
    "| Image| Type |\n",
    "|------|------|\n",
    "| <img src=\"ImageData/21710548.jpeg\" width =\"200\" height=\"200\" > | <b>Rich</b> </br> This class of Image has a lot of detail and useable features. This type of image will be the easiest to process.|\n",
    "| <img src=\"ImageData/917226370.jpeg\" width =\"200\" height=\"200\" > | <b>Poor</b> </br> These images are usually low resolution, lack detail and miss features. This type of image will be more problematic. They may also require manual intervention.|\n",
    "| <img src=\"ImageData/916163619.jpeg\" width =\"200\" height=\"200\" > | <b>Noise</b> </br> These images have no use to the Problem, regardless of the quality. I can't seem to find a pattern or relation which would flag these as being noise. My initial thought was I could check if the image name is in the csv file and if its not then I could delete it. |"
   ]
  },
  {
   "cell_type": "markdown",
   "metadata": {},
   "source": [
    "### Noise Removal"
   ]
  },
  {
   "cell_type": "markdown",
   "metadata": {},
   "source": [
    "<p> Below is my inital attempt at noise removal. As mentioned in the table above I wanted to see if there are any images that do not exist in the csv file. This was not the case. To verify that these images are infact noise I checked the long/lat associated to a given node. The image in the above table supposed location is off the coast of Somalia. I am confident these Images or locations are noise.<p>"
   ]
  },
  {
   "cell_type": "code",
   "execution_count": 17,
   "metadata": {},
   "outputs": [],
   "source": [
    "with open(\"ukwindturbines_osm.csv\", 'rt') as f:\n",
    "    data = csv.reader(f)\n",
    "    next(data, None)\n",
    "    csv_data = []\n",
    "    for row in data:\n",
    "        csv_data.append(row[2][5:]+\".jpeg\")"
   ]
  },
  {
   "cell_type": "code",
   "execution_count": 27,
   "metadata": {},
   "outputs": [],
   "source": [
    "img_data = []\n",
    "for img in listdir(\"ImageData/\"):\n",
    "    img_data.append(img)"
   ]
  },
  {
   "cell_type": "code",
   "execution_count": 44,
   "metadata": {},
   "outputs": [],
   "source": [
    "remove_data = []\n",
    "for i in img_data:\n",
    "    if i not in csv_data:\n",
    "        remove_data.append(i)"
   ]
  },
  {
   "cell_type": "markdown",
   "metadata": {},
   "source": [
    "<p> remove_data is empty as every image can be found in the csv file </p>"
   ]
  },
  {
   "cell_type": "code",
   "execution_count": 45,
   "metadata": {},
   "outputs": [
    {
     "data": {
      "text/plain": [
       "[]"
      ]
     },
     "execution_count": 45,
     "metadata": {},
     "output_type": "execute_result"
    }
   ],
   "source": [
    "remove_data"
   ]
  },
  {
   "cell_type": "markdown",
   "metadata": {},
   "source": [
    "# Problem Analysis"
   ]
  },
  {
   "cell_type": "markdown",
   "metadata": {},
   "source": [
    "<p> The problem described in the provided PDF could be resolved by providing a method which, given the orientation of the wind turbine return a bearing between 0 and 360. This method could accept a line which corresponds to the orientation of the blades seen in the image, coupled with a direction ( North, East, South or West ) as to determine which side of the line to find the bearing from.</p>\n",
    "\n",
    "<p> I decided that I would attempt to create a program/script which would find the location of the wind turbine in the image automatically, then it will generate the most appropriate line which signifies its orientation, assertain as to which side of the line is front facing and lastly produce a bearing.</p>\n",
    "\n"
   ]
  },
  {
   "cell_type": "code",
   "execution_count": null,
   "metadata": {},
   "outputs": [],
   "source": []
  }
 ],
 "metadata": {
  "kernelspec": {
   "display_name": "Python 3",
   "language": "python",
   "name": "python3"
  },
  "language_info": {
   "codemirror_mode": {
    "name": "ipython",
    "version": 3
   },
   "file_extension": ".py",
   "mimetype": "text/x-python",
   "name": "python",
   "nbconvert_exporter": "python",
   "pygments_lexer": "ipython3",
   "version": "3.7.6"
  }
 },
 "nbformat": 4,
 "nbformat_minor": 4
}
